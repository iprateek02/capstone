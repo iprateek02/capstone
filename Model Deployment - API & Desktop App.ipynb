{
 "cells": [
  {
   "cell_type": "code",
   "execution_count": 1,
   "id": "451d80d0",
   "metadata": {},
   "outputs": [],
   "source": [
    "import joblib\n",
    "import re  \n",
    "import os\n",
    "from os.path import dirname, join, realpath\n",
    "import requests as r"
   ]
  },
  {
   "cell_type": "markdown",
   "id": "0704bbc6",
   "metadata": {},
   "source": [
    "**We have deployed the Ticket claasifier model as FastAPI deployed on Heroku platform such that API is available to be accessed over the internet.This API can be integrated in a ITSM ticketing tool or integrated in an desltop App. We have also developed a small UI app where we have integrated our API for Group prediction of the ticket basis the description inputted by the user.**"
   ]
  },
  {
   "cell_type": "markdown",
   "id": "2f2b6676",
   "metadata": {},
   "source": [
    "## Main.py file of the API using FastAPI"
   ]
  },
  {
   "cell_type": "code",
   "execution_count": null,
   "id": "bd7797e6",
   "metadata": {},
   "outputs": [],
   "source": [
    "from string import punctuation\n",
    "from nltk.tokenize import word_tokenize\n",
    "import nltk\n",
    "from nltk.corpus import stopwords\n",
    "from nltk.stem import WordNetLemmatizer\n",
    "import re  # regular expression\n",
    "import os\n",
    "import sklearn\n",
    "from os.path import dirname, join, realpath\n",
    "import joblib\n",
    "import uvicorn\n",
    "from fastapi import FastAPI \n",
    "from deep_translator import GoogleTranslator\n",
    "from bs4 import BeautifulSoup\n",
    "import unicodedata\n",
    "from nltk import word_tokenize\n",
    "\n",
    "app = FastAPI(\n",
    "    title=\"Ticket Group Prediction API\",\n",
    "    description=\"A simple API that uses NLP model to predict the group to which a ticket should be assigned basis the description\",\n",
    "    version=\"0.1\",\n",
    ")\n",
    "\n",
    "# load the sentiment model\n",
    "with open(\n",
    "    join(dirname(realpath(__file__)), \"model/ticket_classifier_model.pkl\"), \"rb\"\n",
    ") as f:\n",
    "    model = joblib.load(f)\n",
    "\n",
    "def clean_text(text, detect_translate=True, remove_stopwords=True, lemmatize_text=True):\n",
    "    text=text.lower()\n",
    "    text= re.sub(r\"_x000D_\",' ',text)\n",
    "    text = re.sub(r'[\\r|\\n|\\r\\n]+', ' ',text)\n",
    "    text = re.sub(r\"received from:\",' ',text)\n",
    "    text = re.sub(r\"from:\",' ',text)\n",
    "    text = re.sub(r\"to:\",' ',text)\n",
    "    text = re.sub(r\"subject:\",' ',text)\n",
    "    text = re.sub(r\"sent:\",' ',text)\n",
    "    text = re.sub(r\"ic:\",' ',text)\n",
    "    text = re.sub(r\"cc:\",' ',text)\n",
    "    text = re.sub(r\"bcc:\",' ',text)\n",
    "    text = re.sub(r\"issue resolved.\",' ', text)\n",
    "    # Removing url\n",
    "    text = re.sub(r'^https?:\\/\\/.*[\\r\\n]*', '', text, flags=re.MULTILINE)\n",
    "    #Removing email \n",
    "    text = re.sub(r'\\S+@\\S+', '', text)\n",
    "    text = text.replace(\"\\\\\", ' ')\n",
    "    # Removing numbers \n",
    "    text = re.sub(r'\\d+','' ,text)\n",
    "    # Removing accented characters\n",
    "    text = unicodedata.normalize('NFKD', text).encode('ascii', 'ignore').decode('utf-8', 'ignore')\n",
    "    # Remove new line characters \n",
    "    text = re.sub(r'\\n',' ',text)\n",
    "    # Remove hashtag while keeping hashtag text\n",
    "    text = re.sub(r'#','', text)\n",
    "    #& \n",
    "    text = re.sub(r'&;?', 'and',text)\n",
    "    # Remove HTML special entities (e.g. &amp;)\n",
    "    soup = BeautifulSoup(text, \"html.parser\")\n",
    "    text = soup.get_text()\n",
    "    # Remove characters beyond Readable formart by Unicode:\n",
    "    text= ''.join(c for c in text if c <= '\\uFFFF') \n",
    "    text = text.strip()\n",
    "    # Removing special characters and\\or digits    \n",
    "    specialchar_pattern = re.compile(r'([{.(-)!_,}])')\n",
    "    text = specialchar_pattern.sub(\" \\\\1 \", text)\n",
    "    pattern = r'[^a-zA-z\\s]'\n",
    "    text = re.sub(pattern, '', text)\n",
    "    # Single character removal\n",
    "    text = re.sub(r\"\\s+[a-zA-Z]\\s+\", ' ', text)\n",
    "    # Remove unreadable characters  (also extra spaces)\n",
    "    text = ' '.join(re.sub(\"[^\\u0030-\\u0039\\u0041-\\u005a\\u0061-\\u007a]\", \" \", text).split())\n",
    "    \n",
    "    text = re.sub(r\"\\s+[a-zA-Z]\\s+\", ' ', text)\n",
    "    text = re.sub(' +', ' ', text)\n",
    "    text = text.strip()\n",
    "    \n",
    "    # Optionally, translate text to English\n",
    "    if detect_translate:\n",
    "        target_lang='en'\n",
    "        translated = GoogleTranslator(source='auto', target=target_lang).translate(text)\n",
    "        text=translated \n",
    "\n",
    "    # Optionally, remove stop words\n",
    "    if remove_stopwords:\n",
    "        stop_words = set(stopwords.words(\"english\"))\n",
    "        word_tokens = word_tokenize(text)\n",
    "        text = [w for w in word_tokens if not w in stop_words]\n",
    "        text = \" \".join(text)\n",
    "    \n",
    "    # Optionally, Lemmatize the text\n",
    "    if lemmatize_text:       \n",
    "        lemmatizer = WordNetLemmatizer()\n",
    "        lemmatized_words = [lemmatizer.lemmatize(word) for word in text.split()]\n",
    "        text = \" \".join(lemmatized_words)\n",
    "\n",
    "    return text\n",
    "\n",
    "@app.get(\"/\")\n",
    "def hello():\n",
    "    return {\"message\":\"Hello! Welcome to Ticket Classifier\"}\n",
    "\n",
    "@app.get(\"/predict-ticketdesc\")\n",
    "def predict_grp(ticketdesc: str):\n",
    "    \"\"\"\n",
    "    A simple function that receives a ticket description and predicts the Group to which this ticket should be assigned.\n",
    "    :param ticketdesc:\n",
    "    :return: prediction\n",
    "    \"\"\"\n",
    "    # Considering only first 3000 characters\n",
    "    if len(ticketdesc) >3000:\n",
    "        ticketdesc=ticketdesc[0:3000]\n",
    "    \n",
    "    # clean the review\n",
    "    cleaned_desc = clean_text(ticketdesc)\n",
    "    \n",
    "    # perform prediction\n",
    "    prediction = model.predict([cleaned_desc])\n",
    "    output = prediction[0]\n",
    "    \n",
    "    # show results\n",
    "    result = {\"prediction\": output}\n",
    "    \n",
    "    return result\n"
   ]
  },
  {
   "cell_type": "markdown",
   "id": "22dcd1c5",
   "metadata": {},
   "source": [
    "**Accessing API in jupyter Notebook**"
   ]
  },
  {
   "cell_type": "code",
   "execution_count": 5,
   "id": "2d7f25ce",
   "metadata": {},
   "outputs": [],
   "source": [
    "cleaned_desc=\"please allow access using printer india office please refer attachment\""
   ]
  },
  {
   "cell_type": "code",
   "execution_count": 7,
   "id": "394be7e0",
   "metadata": {},
   "outputs": [],
   "source": [
    "keys = {\"ticketdesc\": cleaned_desc}"
   ]
  },
  {
   "cell_type": "code",
   "execution_count": 8,
   "id": "a5753fa4",
   "metadata": {},
   "outputs": [],
   "source": [
    "prediction = r.get(\"https://ticketgroup-clf.herokuapp.com/predict-ticketdesc/\", params=keys)"
   ]
  },
  {
   "cell_type": "code",
   "execution_count": 9,
   "id": "96ed1096",
   "metadata": {},
   "outputs": [
    {
     "data": {
      "text/plain": [
       "{'prediction': 'GRP_19'}"
      ]
     },
     "execution_count": 9,
     "metadata": {},
     "output_type": "execute_result"
    }
   ],
   "source": [
    "results = prediction.json()\n",
    "results"
   ]
  },
  {
   "cell_type": "code",
   "execution_count": 10,
   "id": "6e938bd3",
   "metadata": {},
   "outputs": [
    {
     "name": "stdout",
     "output_type": "stream",
     "text": [
      "GRP_19\n"
     ]
    }
   ],
   "source": [
    "print(results[\"prediction\"])"
   ]
  },
  {
   "cell_type": "markdown",
   "id": "0309ed88",
   "metadata": {},
   "source": [
    "## App.py file of the Dekstop UI app built using Flask"
   ]
  },
  {
   "cell_type": "code",
   "execution_count": null,
   "id": "9770a098",
   "metadata": {},
   "outputs": [],
   "source": [
    "from flask import Flask, redirect,render_template,request\n",
    "import requests as r\n",
    "\n",
    "\n",
    "# app\n",
    "app = Flask(__name__)\n",
    "\n",
    "\n",
    "@app.route('/')\n",
    "def home():\n",
    "\treturn render_template('home.html')\n",
    "\n",
    "# routes\n",
    "@app.route('/predict', methods=['POST','GET'])\n",
    "def predict(message=None):\n",
    "\n",
    "    if request.method == 'POST':\n",
    "        if request.form['message']:\n",
    "            message = request.form.get('message')\n",
    "            if len(message)>3000:\n",
    "                message=message[0:3000]\n",
    "\n",
    "            keys = {\"ticketdesc\": message}\n",
    "            pred = r.get('https://ticketgroup-clf.herokuapp.com/predict-ticketdesc/', params=keys)\n",
    "            val = pred.json()\n",
    "            output=val[\"prediction\"]  \n",
    "            return render_template('result.html',prediction=output)\n",
    "        else:\n",
    "            return render_template('home.html',message=None)\n",
    "    if request.method == 'GET':\n",
    "        return render_template('home.html',message=None)\n",
    "\n",
    "if __name__ == '__main__':\n",
    "   app.run(port = 5000, debug=True)"
   ]
  },
  {
   "cell_type": "markdown",
   "id": "5ddf81ea",
   "metadata": {},
   "source": [
    "### Github Repository"
   ]
  },
  {
   "cell_type": "markdown",
   "id": "10d28074",
   "metadata": {},
   "source": [
    "Github Repository for API:\n",
    "https://github.com/iprateek02/capstoneAPI  \n",
    "\n",
    "Github repository for UI app, model building,Final Report & other documents:\n",
    "https://github.com/iprateek02/capstone   "
   ]
  }
 ],
 "metadata": {
  "kernelspec": {
   "display_name": "Python 3",
   "language": "python",
   "name": "python3"
  },
  "language_info": {
   "codemirror_mode": {
    "name": "ipython",
    "version": 3
   },
   "file_extension": ".py",
   "mimetype": "text/x-python",
   "name": "python",
   "nbconvert_exporter": "python",
   "pygments_lexer": "ipython3",
   "version": "3.9.5"
  }
 },
 "nbformat": 4,
 "nbformat_minor": 5
}
